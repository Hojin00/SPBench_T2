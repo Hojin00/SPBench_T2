{
 "cells": [
  {
   "cell_type": "code",
   "execution_count": 1,
   "id": "4ecce7ba",
   "metadata": {},
   "outputs": [],
   "source": [
    "import pandas as pd\n",
    "import numpy as np"
   ]
  },
  {
   "cell_type": "code",
   "execution_count": 2,
   "id": "95cdaa24",
   "metadata": {},
   "outputs": [],
   "source": [
    "#carrega o dataset de treino\n",
    "df_treino = pd.read_csv('spbenchData.csv')\n",
    "#carrega o dataset de teste\n",
    "df_teste = pd.read_csv('spbenchTest1.csv')\n",
    "\n",
    "#------------------------------------------------\n",
    "#Define a label no treino (predict)\n",
    "df_treino_label_th = df_treino['Throughput'].copy()\n",
    "df_treino_label_lat = df_treino['Latencia'].copy()\n",
    "\n",
    "#Define as features no treino (inputs)\n",
    "df_treino        = df_treino.drop(columns='Throughput' )\n",
    "df_treino        = df_treino.drop(columns='Latencia' )\n",
    "df_treino        = df_treino.drop(columns='NumRep' )\n",
    "\n",
    "#------------------------------------------------\n",
    "#Define a label na teste (predict)\n",
    "df_teste_label_th = df_teste['Throughput'].copy()\n",
    "df_teste_label_lat = df_teste['Latencia'].copy()\n",
    "\n",
    "#Define as features na teste (inputs)\n",
    "df_teste        = df_teste.drop(columns='Throughput')\n",
    "df_teste        = df_teste.drop(columns='Latencia' )\n",
    "df_teste        = df_teste.drop(columns='NumRep' )\n"
   ]
  },
  {
   "cell_type": "code",
   "execution_count": 3,
   "id": "b0ff8bd7",
   "metadata": {},
   "outputs": [],
   "source": [
    "# Seleciona só os atributos categóricos\n",
    "df_categorical = df_treino.select_dtypes(include=['object'])\n",
    "df_categorical2 = df_teste.select_dtypes(include=['object'])\n",
    "\n",
    "#-------------------------------\n",
    "# Converte para o numérico\n",
    "aux = pd.get_dummies(df_categorical['Aplicacao'])\n",
    "aux2 = pd.get_dummies(df_categorical['PPI'])\n",
    "\n",
    "auxT = pd.get_dummies(df_categorical2['Aplicacao'])\n",
    "auxT2 = pd.get_dummies(df_categorical2['PPI'])\n",
    "\n",
    "#-------------------------------\n",
    "# Reagrupamento\n",
    "df_treino = df_treino.drop(df_categorical.columns,axis=1)\n",
    "df_treino = pd.concat([df_treino,aux],axis=1)\n",
    "df_treino = pd.concat([df_treino,aux2],axis=1)\n",
    "\n",
    "df_teste = df_teste.drop(df_categorical2.columns,axis=1)\n",
    "df_teste = pd.concat([df_teste,auxT],axis=1)\n",
    "df_teste = pd.concat([df_teste,auxT2],axis=1)"
   ]
  },
  {
   "cell_type": "markdown",
   "id": "c97e78eb",
   "metadata": {},
   "source": [
    "# Throughput"
   ]
  },
  {
   "cell_type": "code",
   "execution_count": 4,
   "id": "0986e5e1",
   "metadata": {},
   "outputs": [],
   "source": [
    "from sklearn.ensemble import RandomForestRegressor\n",
    "\n",
    "rf = RandomForestRegressor(n_estimators= 10, random_state=42)\n",
    "\n",
    "rf.fit(df_treino, df_treino_label_th);"
   ]
  },
  {
   "cell_type": "markdown",
   "id": "91a142d6",
   "metadata": {},
   "source": [
    "# Bzip2"
   ]
  },
  {
   "cell_type": "code",
   "execution_count": 5,
   "id": "b0437255",
   "metadata": {},
   "outputs": [
    {
     "name": "stdout",
     "output_type": "stream",
     "text": [
      "mape:  0.004176694349813018\n",
      "rmse:  0.9132381644626908\n"
     ]
    }
   ],
   "source": [
    "from sklearn.metrics import mean_absolute_percentage_error\n",
    "from sklearn.metrics import mean_squared_error\n",
    "\n",
    "teste_mean_th = []\n",
    "y_true_th = []\n",
    "y_pred_th = []\n",
    "\n",
    "for i in df_teste_label_th:\n",
    "        \n",
    "    teste_mean_th.append(i)\n",
    "    if (len(teste_mean_th) == 2):\n",
    "        y_true_th.append(np.mean(teste_mean_th))\n",
    "        teste_mean_th = []\n",
    "        \n",
    "\n",
    "y_aux = y_true_th[:60]        \n",
    "apps = [[1,0,0,0,0,1,0,0], [1,0,0,0,0,0,1,0], [1,0,0,1,0,0,0,0], [1,0,0,0,1,0,0,0], [1,0,0,0,0,0,0,1]]\n",
    "\n",
    "\n",
    "for a in apps:\n",
    "    for i in range(1,13):\n",
    "        newTh = pd.DataFrame( [[i] + a],\n",
    "                columns=['NumTh','Bzip2','Lane','Person','spar_np','spar(Custom)','ff_np', 'ff(Custom)','tbb'])\n",
    "        y_predict_th = rf.predict(newTh)\n",
    "        y_pred_th.append(y_predict_th[0])\n",
    "\n",
    "print(\"mape: \",mean_absolute_percentage_error(y_aux, y_pred_th))\n",
    "rmse = np.sqrt(mean_squared_error(y_aux,y_pred_th))\n",
    "print(\"rmse: \",rmse)"
   ]
  },
  {
   "cell_type": "markdown",
   "id": "10463a27",
   "metadata": {},
   "source": [
    "# Lane"
   ]
  },
  {
   "cell_type": "code",
   "execution_count": 6,
   "id": "21fa75e3",
   "metadata": {},
   "outputs": [
    {
     "name": "stdout",
     "output_type": "stream",
     "text": [
      "mape:  0.011102623375716155\n",
      "rmse:  2.7103644410608427\n"
     ]
    }
   ],
   "source": [
    "from sklearn.metrics import mean_absolute_percentage_error\n",
    "\n",
    "teste_mean_th = []\n",
    "y_true_th = []\n",
    "y_pred_th = []\n",
    "\n",
    "for i in df_teste_label_th:\n",
    "    \n",
    "        \n",
    "    teste_mean_th.append(i)\n",
    "    if (len(teste_mean_th) == 2):\n",
    "        y_true_th.append(np.mean(teste_mean_th))\n",
    "        teste_mean_th = []\n",
    "        \n",
    "y_aux = y_true_th[60:120]\n",
    "apps = [[0,1,0,0,0,1,0,0], [0,1,0,0,0,0,1,0], [0,1,0,1,0,0,0,0], [0,1,0,0,1,0,0,0], [0,1,0,0,0,0,0,1]]\n",
    "\n",
    "\n",
    "for a in apps:\n",
    "    for i in range(1,13):\n",
    "        newTh = pd.DataFrame( [[i] + a],\n",
    "                        columns=['NumTh','Bzip2','Lane','Person','spar_np','spar(Custom)','ff_np', 'ff(Custom)','tbb'])\n",
    "        y_predict_th = rf.predict(newTh)\n",
    "        y_pred_th.append(y_predict_th[0])\n",
    "\n",
    "print(\"mape: \",mean_absolute_percentage_error(y_aux, y_pred_th))\n",
    "rmse = np.sqrt(mean_squared_error(y_aux,y_pred_th))\n",
    "print(\"rmse: \",rmse)"
   ]
  },
  {
   "cell_type": "markdown",
   "id": "4ab1fe09",
   "metadata": {},
   "source": [
    "# Person"
   ]
  },
  {
   "cell_type": "code",
   "execution_count": 7,
   "id": "3836f3a9",
   "metadata": {},
   "outputs": [
    {
     "name": "stdout",
     "output_type": "stream",
     "text": [
      "mape:  0.0037558117021772057\n",
      "rmse:  0.09007462411972805\n"
     ]
    }
   ],
   "source": [
    "from sklearn.metrics import mean_absolute_percentage_error\n",
    "\n",
    "\n",
    "teste_mean_th = []\n",
    "y_true_th = []\n",
    "y_pred_th = []\n",
    "\n",
    "for i in df_teste_label_th:\n",
    "        \n",
    "    teste_mean_th.append(i)\n",
    "    if (len(teste_mean_th) == 2):\n",
    "        y_true_th.append(np.mean(teste_mean_th))\n",
    "        teste_mean_th = []\n",
    "        \n",
    "\n",
    "y_aux = y_true_th[120:]\n",
    "apps = [[0,0,1,0,0,1,0,0], [0,0,1,0,0,0,1,0], [0,0,1,1,0,0,0,0], [0,0,1,0,1,0,0,0], [0,0,1,0,0,0,0,1]]\n",
    "\n",
    "\n",
    "for a in apps:\n",
    "    for i in range(1,13):\n",
    "        newTh = pd.DataFrame( [[i] + a],\n",
    "                        columns=['NumTh','Bzip2','Lane','Person','spar_np','spar(Custom)','ff_np', 'ff(Custom)','tbb'])\n",
    "        y_predict_th = rf.predict(newTh)\n",
    "        y_pred_th.append(y_predict_th[0])\n",
    "\n",
    "print(\"mape: \", mean_absolute_percentage_error(y_aux, y_pred_th))\n",
    "rmse = np.sqrt(mean_squared_error(y_aux,y_pred_th))\n",
    "print(\"rmse: \", rmse)"
   ]
  },
  {
   "cell_type": "markdown",
   "id": "bb060b5f",
   "metadata": {},
   "source": [
    "# Latencia"
   ]
  },
  {
   "cell_type": "code",
   "execution_count": 8,
   "id": "8d48927e",
   "metadata": {},
   "outputs": [],
   "source": [
    "from sklearn.ensemble import RandomForestRegressor\n",
    "\n",
    "rf = RandomForestRegressor(n_estimators= 10, random_state=42)\n",
    "\n",
    "rf.fit(df_treino, df_treino_label_lat);"
   ]
  },
  {
   "cell_type": "markdown",
   "id": "cc5cc02a",
   "metadata": {},
   "source": [
    "# Bzip2"
   ]
  },
  {
   "cell_type": "code",
   "execution_count": 9,
   "id": "f7460068",
   "metadata": {},
   "outputs": [
    {
     "name": "stdout",
     "output_type": "stream",
     "text": [
      "mape:  0.08001971777128987\n",
      "rmse:  50.43057491799392\n"
     ]
    }
   ],
   "source": [
    "from sklearn.metrics import mean_absolute_percentage_error\n",
    "from sklearn.metrics import mean_squared_error\n",
    "\n",
    "teste_mean_lat = []\n",
    "y_true_lat = []\n",
    "y_pred_lat = []\n",
    "\n",
    "\n",
    "for i in df_teste_label_lat:\n",
    "        \n",
    "    teste_mean_lat.append(i)\n",
    "    \n",
    "    if (len(teste_mean_lat) == 2):\n",
    "        y_true_lat.append(np.mean(teste_mean_lat))\n",
    "        teste_mean_lat = []\n",
    "        \n",
    "y_aux = y_true_lat[:60] \n",
    "apps = [[1,0,0,0,0,1,0,0], [1,0,0,0,0,0,1,0], [1,0,0,1,0,0,0,0], [1,0,0,0,1,0,0,0], [1,0,0,0,0,0,0,1]]\n",
    "\n",
    "\n",
    "for a in apps:\n",
    "    for i in range(1,13):\n",
    "        newLat = pd.DataFrame( [[i] + a],\n",
    "                         columns=['NumTh','Bzip2','Lane','Person','ff_np','ff(Custom)','spar_np', 'spar(Custom)','tbb'])\n",
    "        y_predict_lat = rf.predict(newLat)\n",
    "        y_pred_lat.append(y_predict_lat[0])\n",
    "\n",
    "print(\"mape: \", mean_absolute_percentage_error(y_aux, y_pred_lat))\n",
    "rmse = np.sqrt(mean_squared_error(y_aux,y_pred_lat))\n",
    "print(\"rmse: \", rmse)"
   ]
  },
  {
   "cell_type": "markdown",
   "id": "ad1c0b3e",
   "metadata": {},
   "source": [
    "# Lane"
   ]
  },
  {
   "cell_type": "code",
   "execution_count": 10,
   "id": "d18dd9d6",
   "metadata": {},
   "outputs": [
    {
     "name": "stdout",
     "output_type": "stream",
     "text": [
      "mape:  0.18410983015558638\n",
      "rmse:  82.19247288980341\n"
     ]
    }
   ],
   "source": [
    "from sklearn.metrics import mean_absolute_percentage_error\n",
    "\n",
    "\n",
    "teste_mean_lat = []\n",
    "y_true_lat = []\n",
    "y_pred_lat = []\n",
    "\n",
    "\n",
    "for i in df_teste_label_lat:\n",
    "        \n",
    "    teste_mean_lat.append(i)\n",
    "    \n",
    "    if (len(teste_mean_lat) == 2):\n",
    "        y_true_lat.append(np.mean(teste_mean_lat))\n",
    "        teste_mean_lat = []\n",
    "        \n",
    "y_aux = y_true_lat[60:120]\n",
    "apps = [[0,1,0,0,0,1,0,0], [0,1,0,0,0,0,1,0], [0,1,0,1,0,0,0,0], [0,1,0,0,1,0,0,0], [0,1,0,0,0,0,0,1]]\n",
    "\n",
    "\n",
    "for a in apps:\n",
    "    for i in range(1,13):\n",
    "        newLat = pd.DataFrame( [[i] + a],\n",
    "                         columns=['NumTh','Bzip2','Lane','Person','ff_np','ff(Custom)','spar_np', 'spar(Custom)','tbb'])\n",
    "        y_predict_lat = rf.predict(newLat)\n",
    "        y_pred_lat.append(y_predict_lat[0])\n",
    "\n",
    "print(\"mape: \", mean_absolute_percentage_error(y_aux, y_pred_lat))\n",
    "rmse = np.sqrt(mean_squared_error(y_aux,y_pred_lat))\n",
    "print(\"rmse: \", rmse)"
   ]
  },
  {
   "cell_type": "markdown",
   "id": "9dd12153",
   "metadata": {},
   "source": [
    "# Person"
   ]
  },
  {
   "cell_type": "code",
   "execution_count": 11,
   "id": "cd8b39db",
   "metadata": {},
   "outputs": [
    {
     "name": "stdout",
     "output_type": "stream",
     "text": [
      "mape:  0.012267790601816392\n",
      "rmse:  49.19790675781887\n"
     ]
    }
   ],
   "source": [
    "from sklearn.metrics import mean_absolute_percentage_error\n",
    "\n",
    "\n",
    "teste_mean_lat = []\n",
    "y_true_lat = []\n",
    "y_pred_lat = []\n",
    "\n",
    "\n",
    "for i in df_teste_label_lat:\n",
    "        \n",
    "    teste_mean_lat.append(i)\n",
    "    \n",
    "    if (len(teste_mean_lat) == 2):\n",
    "        y_true_lat.append(np.mean(teste_mean_lat))\n",
    "        teste_mean_lat = []\n",
    "        \n",
    "y_aux = y_true_lat[120:]\n",
    "apps = [[0,0,1,0,0,1,0,0], [0,0,1,0,0,0,1,0], [0,0,1,1,0,0,0,0], [0,0,1,0,1,0,0,0], [0,0,1,0,0,0,0,1]]\n",
    "\n",
    "\n",
    "for a in apps:\n",
    "    for i in range(1,13):\n",
    "        newLat = pd.DataFrame( [[i] + a],\n",
    "                         columns=['NumTh','Bzip2','Lane','Person','ff_np','ff(Custom)','spar_np', 'spar(Custom)','tbb'])\n",
    "        y_predict_lat = rf.predict(newLat)\n",
    "        y_pred_lat.append(y_predict_lat[0])\n",
    "\n",
    "print(\"mape: \", mean_absolute_percentage_error(y_aux, y_pred_lat))\n",
    "rmse = np.sqrt(mean_squared_error(y_aux,y_pred_lat))\n",
    "print(\"rmse: \", rmse)"
   ]
  },
  {
   "cell_type": "code",
   "execution_count": null,
   "id": "16c6b43e",
   "metadata": {},
   "outputs": [],
   "source": []
  }
 ],
 "metadata": {
  "kernelspec": {
   "display_name": "Python 3",
   "language": "python",
   "name": "python3"
  },
  "language_info": {
   "codemirror_mode": {
    "name": "ipython",
    "version": 3
   },
   "file_extension": ".py",
   "mimetype": "text/x-python",
   "name": "python",
   "nbconvert_exporter": "python",
   "pygments_lexer": "ipython3",
   "version": "3.8.8"
  }
 },
 "nbformat": 4,
 "nbformat_minor": 5
}
